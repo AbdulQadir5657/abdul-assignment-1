{
 "cells": [
  {
   "cell_type": "code",
   "execution_count": 1,
   "id": "224d8805",
   "metadata": {},
   "outputs": [],
   "source": [
    "# questions 1 \n",
    "1. In the below elements which of them are values or an expression? eg:- values can be\n",
    "integer or string and expressions will be mathematical operators.\n",
    "* = asterisk\n",
    "'hello' = string\n",
    "-87.8 = value\n",
    "- = mathmatical expressins\n",
    "/ = mathmatical expressins\n",
    "+ = mathmatical expressins\n",
    "6 = integer"
   ]
  },
  {
   "cell_type": "code",
   "execution_count": null,
   "id": "d7f6453e",
   "metadata": {},
   "outputs": [],
   "source": [
    "# Question 2\n",
    "2. What is the difference between string and variable?\n",
    "\n",
    "In programming, a variable is a name that can refer to any value.\n",
    "A string is a value representing text. Quotes,double or single, are\n",
    "used to create string literals,the quotes are there to indicate that\n",
    "the text that they enclose is not code, it is a value,\n"
   ]
  },
  {
   "cell_type": "code",
   "execution_count": null,
   "id": "da83cb2e",
   "metadata": {},
   "outputs": [],
   "source": [
    "# Question 3\n",
    "3. Describe three different data types.\n",
    "\n",
    "List: A list is a collection of items in a particular order. Lists are mutable, which\n",
    "        means you can change the contents of a list by adding, removing, or modifying elements.\n",
    "\n",
    "Tuple: A tuple is similar to a list in that it is an ordered collection of elements.\n",
    "    However, tuples are immutable, which means you cannot change the contents of a tuple\n",
    "    once it has been created.\n",
    "\n",
    "Dictionary: A dictionary is a collection of key-value pairs. Each key is connected to a value,\n",
    "    and you can use a key to access the value associated with that key.\n",
    "    \n"
   ]
  },
  {
   "cell_type": "code",
   "execution_count": null,
   "id": "817b2951",
   "metadata": {},
   "outputs": [],
   "source": [
    "# Question 4\n",
    "4. What is an expression made up of? What do all expressions do?\n",
    "\n",
    "    An expression is a combination of operators, constants and variables. It may consist of one or more\n",
    "    operands, and zero or more operators to produce a value. Expressions consist of values and \n",
    "    operators, and they can always evaluate down to a single value. All expressions evaluate to\n",
    "    a single value."
   ]
  },
  {
   "cell_type": "code",
   "execution_count": null,
   "id": "71d22aaa",
   "metadata": {},
   "outputs": [],
   "source": [
    "# Question 5\n",
    "5. This assignment statements, like spam = 10. What is the difference between an\n",
    "expression and a statement?\n",
    "\n",
    "    In programming, an expression is a combination of values and functions that are combined and\n",
    "    interpreted by the compiler to create a new value. An expression can be assigned or used as\n",
    "    operands. An expression appears in a context where the resulting value can be consumed through\n",
    "    substitution of the expression. A statement is a standalone unit of execution that does not\n",
    "    return anything. A statement can only be declared. A statement is one of the basic “blocks” of\n",
    "    program execution."
   ]
  },
  {
   "cell_type": "code",
   "execution_count": 3,
   "id": "31003fd1",
   "metadata": {},
   "outputs": [
    {
     "name": "stdout",
     "output_type": "stream",
     "text": [
      "Object `contain` not found.\n",
      "23\n"
     ]
    }
   ],
   "source": [
    "# Question 6\n",
    "6. After running the following code, what does the variable bacon contain?\n",
    "bacon = 22\n",
    "bacon + 1\n",
    "print(bacon + 1)"
   ]
  },
  {
   "cell_type": "code",
   "execution_count": 5,
   "id": "45df0844",
   "metadata": {},
   "outputs": [
    {
     "name": "stdout",
     "output_type": "stream",
     "text": [
      "Object `be` not found.\n",
      "spamspamspam\n",
      "spamspamspam\n"
     ]
    }
   ],
   "source": [
    "# Question 7\n",
    "7. What should the values of the following two terms be?\n",
    "list1 = 'spam'+ 'spamspam'\n",
    "list2 = 'spam' * 3\n",
    "print(list1)\n",
    "print(list2)"
   ]
  },
  {
   "cell_type": "code",
   "execution_count": null,
   "id": "12118a81",
   "metadata": {},
   "outputs": [],
   "source": [
    "# Question 8\n",
    "8. Why is eggs a valid variable name while 100 is invalid?\n",
    "\n",
    "    Variable names in Python cannot begin with a number. That’s why 100 is an invalid variable name.\n",
    "    However, eggs is a valid variable name because it begins with a letter."
   ]
  },
  {
   "cell_type": "code",
   "execution_count": null,
   "id": "86ed50f3",
   "metadata": {},
   "outputs": [],
   "source": [
    "# Question 9\n",
    "9. What three functions can be used to get the integer, floating-point number, or string\n",
    "version of a value?\n",
    "\n",
    "The three functions that can be used to get the integer, floating-point number, or string \n",
    "version of a value in Python are int(), float(), and str() respectively."
   ]
  },
  {
   "cell_type": "code",
   "execution_count": 9,
   "id": "082e94d0",
   "metadata": {},
   "outputs": [
    {
     "name": "stdout",
     "output_type": "stream",
     "text": [
      "Object `it` not found.\n",
      "('I have eaten', '99', 'burritos')\n"
     ]
    }
   ],
   "source": [
    "# Question 10\n",
    "10. Why does this expression cause an error? How can you fix it?\n",
    "list1= 'I have eaten',  '99' , 'burritos'\n",
    "print(list1)"
   ]
  },
  {
   "cell_type": "code",
   "execution_count": null,
   "id": "8bfc81f6",
   "metadata": {},
   "outputs": [],
   "source": []
  }
 ],
 "metadata": {
  "kernelspec": {
   "display_name": "Python 3 (ipykernel)",
   "language": "python",
   "name": "python3"
  },
  "language_info": {
   "codemirror_mode": {
    "name": "ipython",
    "version": 3
   },
   "file_extension": ".py",
   "mimetype": "text/x-python",
   "name": "python",
   "nbconvert_exporter": "python",
   "pygments_lexer": "ipython3",
   "version": "3.10.9"
  }
 },
 "nbformat": 4,
 "nbformat_minor": 5
}
